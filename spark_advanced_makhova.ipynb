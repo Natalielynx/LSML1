{
 "cells": [
  {
   "cell_type": "code",
   "execution_count": 1,
   "id": "787ef53d-b3f0-49b1-9b23-f1e21eaadcb8",
   "metadata": {
    "tags": []
   },
   "outputs": [],
   "source": [
    "import tqdm.notebook as tqdm\n",
    "import numpy as np\n",
    "import scipy\n",
    "import sklearn"
   ]
  },
  {
   "cell_type": "markdown",
   "id": "895b1a62-f8ed-4763-b6aa-6b7d3c0223e4",
   "metadata": {},
   "source": [
    "# Spark"
   ]
  },
  {
   "cell_type": "code",
   "execution_count": 2,
   "id": "242387fc-75a1-4370-9a37-839f879411f2",
   "metadata": {
    "tags": []
   },
   "outputs": [
    {
     "name": "stdout",
     "output_type": "stream",
     "text": [
      "jovyan\n",
      " * Starting OpenBSD Secure Shell server sshd\n",
      "start-stop-daemon: unable to set gid to 0 (Operation not permitted)\n",
      "   ...fail!\n",
      " * sshd is running\n",
      "Starting namenodes on [localhost]\n",
      "localhost: Warning: Permanently added 'localhost' (ED25519) to the list of known hosts.\n",
      "localhost: namenode is running as process 165.  Stop it first and ensure /tmp/hadoop-jovyan-namenode.pid file is empty before retry.\n",
      "Starting datanodes\n",
      "localhost: Warning: Permanently added 'localhost' (ED25519) to the list of known hosts.\n",
      "localhost: datanode is running as process 280.  Stop it first and ensure /tmp/hadoop-jovyan-datanode.pid file is empty before retry.\n",
      "Starting secondary namenodes [507e1180e956]\n",
      "507e1180e956: Warning: Permanently added '507e1180e956' (ED25519) to the list of known hosts.\n",
      "507e1180e956: secondarynamenode is running as process 505.  Stop it first and ensure /tmp/hadoop-jovyan-secondarynamenode.pid file is empty before retry.\n",
      "Starting resourcemanager\n",
      "resourcemanager is running as process 740.  Stop it first and ensure /tmp/hadoop-jovyan-resourcemanager.pid file is empty before retry.\n",
      "Starting nodemanagers\n",
      "localhost: Warning: Permanently added 'localhost' (ED25519) to the list of known hosts.\n",
      "localhost: nodemanager is running as process 847.  Stop it first and ensure /tmp/hadoop-jovyan-nodemanager.pid file is empty before retry.\n",
      "WARNING: Use of this script to start the MR JobHistory daemon is deprecated.\n",
      "WARNING: Attempting to execute replacement \"mapred --daemon start\" instead.\n",
      "16256 sun.tools.jps.Jps -lm\n",
      "740 org.apache.hadoop.yarn.server.resourcemanager.ResourceManager\n",
      "165 org.apache.hadoop.hdfs.server.namenode.NameNode\n",
      "280 org.apache.hadoop.hdfs.server.datanode.DataNode\n",
      "505 org.apache.hadoop.hdfs.server.namenode.SecondaryNameNode\n",
      "847 org.apache.hadoop.yarn.server.nodemanager.NodeManager\n",
      "Configured Capacity: 1081101176832 (1006.85 GB)\n",
      "Present Capacity: 1014594609152 (944.91 GB)\n",
      "DFS Remaining: 1013794156544 (944.17 GB)\n",
      "DFS Used: 800452608 (763.37 MB)\n",
      "DFS Used%: 0.08%\n",
      "Replicated Blocks:\n",
      "\tUnder replicated blocks: 0\n",
      "\tBlocks with corrupt replicas: 0\n",
      "\tMissing blocks: 0\n",
      "\tMissing blocks (with replication factor 1): 0\n",
      "\tLow redundancy blocks with highest priority to recover: 0\n",
      "\tPending deletion blocks: 0\n",
      "Erasure Coded Block Groups: \n",
      "\tLow redundancy block groups: 0\n",
      "\tBlock groups with corrupt internal blocks: 0\n",
      "\tMissing block groups: 0\n",
      "\tLow redundancy blocks with highest priority to recover: 0\n",
      "\tPending deletion blocks: 0\n",
      "\n",
      "-------------------------------------------------\n",
      "Live datanodes (1):\n",
      "\n",
      "Name: 127.0.0.1:9866 (localhost)\n",
      "Hostname: 507e1180e956\n",
      "Decommission Status : Normal\n",
      "Configured Capacity: 1081101176832 (1006.85 GB)\n",
      "DFS Used: 800452608 (763.37 MB)\n",
      "Non DFS Used: 11514212352 (10.72 GB)\n",
      "DFS Remaining: 1013794156544 (944.17 GB)\n",
      "DFS Used%: 0.07%\n",
      "DFS Remaining%: 93.77%\n",
      "Configured Cache Capacity: 0 (0 B)\n",
      "Cache Used: 0 (0 B)\n",
      "Cache Remaining: 0 (0 B)\n",
      "Cache Used%: 100.00%\n",
      "Cache Remaining%: 0.00%\n",
      "Xceivers: 0\n",
      "Last contact: Wed May 10 12:51:40 UTC 2023\n",
      "Last Block Report: Wed May 10 11:51:54 UTC 2023\n",
      "Num of Blocks: 50\n",
      "\n",
      "\n",
      "chmod: changing permissions of '/home/jovyan/jupyter.log': Operation not permitted\n",
      "chmod: changing permissions of '/home/jovyan/nginx.log': Operation not permitted\n",
      "chmod: changing permissions of '/home/jovyan/error.log': Operation not permitted\n",
      "chmod: changing permissions of '/home/jovyan/access.log': Operation not permitted\n"
     ]
    }
   ],
   "source": [
    "! /home/jovyan/start-hadoop.sh"
   ]
  },
  {
   "cell_type": "code",
   "execution_count": 3,
   "id": "61f1827d-bf37-4111-9e17-22f1fb7ba580",
   "metadata": {
    "tags": []
   },
   "outputs": [
    {
     "name": "stderr",
     "output_type": "stream",
     "text": [
      "Setting default log level to \"WARN\".\n",
      "To adjust logging level use sc.setLogLevel(newLevel). For SparkR, use setLogLevel(newLevel).\n",
      "2023-05-10 12:51:49,924 WARN yarn.Client: Neither spark.yarn.jars nor spark.yarn.archive is set, falling back to uploading libraries under SPARK_HOME.\n"
     ]
    }
   ],
   "source": [
    "# connect, context, session\n",
    "\n",
    "import findspark\n",
    "findspark.init()\n",
    "\n",
    "import pyspark\n",
    "sc = pyspark.SparkContext(appName='jupyter')\n",
    "\n",
    "from pyspark.sql import SparkSession, Row\n",
    "se = SparkSession(sc)\n"
   ]
  },
  {
   "cell_type": "markdown",
   "id": "007ee720-f7d4-43d7-842f-6881aaa18c92",
   "metadata": {},
   "source": [
    "# HDFS"
   ]
  },
  {
   "cell_type": "code",
   "execution_count": 4,
   "id": "dbcc8c67-a200-4b0d-8737-7fd6ac09af26",
   "metadata": {
    "tags": []
   },
   "outputs": [
    {
     "name": "stdout",
     "output_type": "stream",
     "text": [
      "Filesystem                 Size   Used  Available  Use%\n",
      "hdfs://localhost:9000  1006.9 G  1.0 G    943.6 G    0%\n"
     ]
    }
   ],
   "source": [
    "! hdfs dfs -df -h"
   ]
  },
  {
   "cell_type": "code",
   "execution_count": 5,
   "id": "613b3f06-a417-4bf3-a285-c8d7c63bb32e",
   "metadata": {
    "tags": []
   },
   "outputs": [
    {
     "name": "stdout",
     "output_type": "stream",
     "text": [
      "Found 2 items\n",
      "drwxrwx---   - root   supergroup          0 2023-05-09 20:43 /tmp\n",
      "drwxr-xr-x   - jovyan supergroup          0 2023-05-09 20:43 /user\n"
     ]
    }
   ],
   "source": [
    "! hdfs dfs -ls /"
   ]
  },
  {
   "cell_type": "markdown",
   "id": "c113c528-b8a9-45dc-b4fc-cb7693276c55",
   "metadata": {},
   "source": [
    "## Outbrain click prediction dataseet"
   ]
  },
  {
   "cell_type": "code",
   "execution_count": 6,
   "id": "fc2af7b0-0fe0-4847-8b34-8996fb4c27cf",
   "metadata": {
    "tags": []
   },
   "outputs": [
    {
     "name": "stdout",
     "output_type": "stream",
     "text": [
      "Requirement already satisfied: kaggle in /opt/conda/lib/python3.10/site-packages (1.5.3)\n",
      "Collecting kaggle\n",
      "  Using cached kaggle-1.5.13-py3-none-any.whl\n",
      "Requirement already satisfied: python-dateutil in /opt/conda/lib/python3.10/site-packages (from kaggle) (2.8.2)\n",
      "Requirement already satisfied: six>=1.10 in /opt/conda/lib/python3.10/site-packages (from kaggle) (1.16.0)\n",
      "Requirement already satisfied: requests in /opt/conda/lib/python3.10/site-packages (from kaggle) (2.28.2)\n",
      "Requirement already satisfied: tqdm in /opt/conda/lib/python3.10/site-packages (from kaggle) (4.65.0)\n",
      "Requirement already satisfied: python-slugify in /opt/conda/lib/python3.10/site-packages (from kaggle) (8.0.1)\n",
      "Requirement already satisfied: urllib3 in /opt/conda/lib/python3.10/site-packages (from kaggle) (1.24.3)\n",
      "Requirement already satisfied: certifi in /opt/conda/lib/python3.10/site-packages (from kaggle) (2022.12.7)\n",
      "Requirement already satisfied: text-unidecode>=1.3 in /opt/conda/lib/python3.10/site-packages (from python-slugify->kaggle) (1.3)\n",
      "Requirement already satisfied: idna<4,>=2.5 in /opt/conda/lib/python3.10/site-packages (from requests->kaggle) (3.4)\n",
      "Requirement already satisfied: charset-normalizer<4,>=2 in /opt/conda/lib/python3.10/site-packages (from requests->kaggle) (2.1.1)\n",
      "Installing collected packages: kaggle\n",
      "  Attempting uninstall: kaggle\n",
      "    Found existing installation: kaggle 1.5.3\n",
      "    Uninstalling kaggle-1.5.3:\n",
      "      Successfully uninstalled kaggle-1.5.3\n",
      "Successfully installed kaggle-1.5.13\n"
     ]
    }
   ],
   "source": [
    "!pip install kaggle --upgrade"
   ]
  },
  {
   "cell_type": "code",
   "execution_count": 7,
   "id": "84da0b8b-01b7-4551-8eda-a8724e03fba4",
   "metadata": {
    "tags": []
   },
   "outputs": [],
   "source": [
    "! mkdir -p ~/.kaggle"
   ]
  },
  {
   "cell_type": "code",
   "execution_count": 8,
   "id": "05dde2d7-0326-4401-a7a9-47cccc27a3d9",
   "metadata": {
    "tags": []
   },
   "outputs": [
    {
     "name": "stdout",
     "output_type": "stream",
     "text": [
      "Overwriting /home/jovyan/.kaggle/kaggle.json\n"
     ]
    }
   ],
   "source": [
    "%%writefile ~/.kaggle/kaggle.json\n",
    "{\"username\":\"nataliamakhova\",\"key\":\"1a39a597b3fa3321fc5248f677a82e68\"}"
   ]
  },
  {
   "cell_type": "code",
   "execution_count": 9,
   "id": "8237a327-6fbe-4b2c-999d-7e07b76342b6",
   "metadata": {
    "tags": []
   },
   "outputs": [],
   "source": [
    "! chmod 600 ~/.kaggle/kaggle.json"
   ]
  },
  {
   "cell_type": "code",
   "execution_count": 10,
   "id": "fecda2f1-11c5-4e76-9769-286b1fb11e1d",
   "metadata": {
    "tags": []
   },
   "outputs": [
    {
     "name": "stdout",
     "output_type": "stream",
     "text": [
      "Requirement already satisfied: urllib3 in /opt/conda/lib/python3.10/site-packages (1.24.3)\n",
      "Collecting urllib3\n",
      "  Using cached urllib3-2.0.2-py3-none-any.whl (123 kB)\n",
      "Collecting kaggle==1.5.3\n",
      "  Using cached kaggle-1.5.3-py3-none-any.whl\n",
      "Requirement already satisfied: certifi in /opt/conda/lib/python3.10/site-packages (from kaggle==1.5.3) (2022.12.7)\n",
      "Requirement already satisfied: python-dateutil in /opt/conda/lib/python3.10/site-packages (from kaggle==1.5.3) (2.8.2)\n",
      "Requirement already satisfied: tqdm in /opt/conda/lib/python3.10/site-packages (from kaggle==1.5.3) (4.65.0)\n",
      "Requirement already satisfied: requests in /opt/conda/lib/python3.10/site-packages (from kaggle==1.5.3) (2.28.2)\n",
      "Requirement already satisfied: six>=1.10 in /opt/conda/lib/python3.10/site-packages (from kaggle==1.5.3) (1.16.0)\n",
      "Requirement already satisfied: python-slugify in /opt/conda/lib/python3.10/site-packages (from kaggle==1.5.3) (8.0.1)\n",
      "Requirement already satisfied: text-unidecode>=1.3 in /opt/conda/lib/python3.10/site-packages (from python-slugify->kaggle==1.5.3) (1.3)\n",
      "Requirement already satisfied: idna<4,>=2.5 in /opt/conda/lib/python3.10/site-packages (from requests->kaggle==1.5.3) (3.4)\n",
      "Requirement already satisfied: charset-normalizer<4,>=2 in /opt/conda/lib/python3.10/site-packages (from requests->kaggle==1.5.3) (2.1.1)\n",
      "Installing collected packages: kaggle\n",
      "  Attempting uninstall: kaggle\n",
      "    Found existing installation: kaggle 1.5.13\n",
      "    Uninstalling kaggle-1.5.13:\n",
      "      Successfully uninstalled kaggle-1.5.13\n",
      "Successfully installed kaggle-1.5.3\n",
      "403 - Forbidden\n",
      "403 - Forbidden\n"
     ]
    }
   ],
   "source": [
    "! pip install -U urllib3 kaggle==1.5.3\n",
    "! kaggle competitions download -c outbrain-click-prediction -f page_views_sample.csv.zip\n",
    "! kaggle competitions download -c outbrain-click-prediction -f documents_topics.csv.zip "
   ]
  },
  {
   "cell_type": "code",
   "execution_count": 11,
   "id": "1866cc52-da0d-4a9e-8c67-acec09a1b117",
   "metadata": {
    "tags": []
   },
   "outputs": [
    {
     "name": "stdout",
     "output_type": "stream",
     "text": [
      "unzip:  cannot find or open *.zip, *.zip.zip or *.zip.ZIP.\n",
      "\n",
      "No zipfiles found.\n"
     ]
    }
   ],
   "source": [
    "! unzip '*.zip'\n",
    "! rm -rf *.zip"
   ]
  },
  {
   "cell_type": "code",
   "execution_count": 12,
   "id": "1f9b461b-eda4-40b4-be37-791ccb66a571",
   "metadata": {
    "tags": []
   },
   "outputs": [
    {
     "name": "stdout",
     "output_type": "stream",
     "text": [
      "put: `page_views_sample.csv': File exists\n",
      "put: `documents_topics.csv': File exists\n"
     ]
    }
   ],
   "source": [
    "! hdfs dfs -put page_views_sample.csv\n",
    "! hdfs dfs -put documents_topics.csv"
   ]
  },
  {
   "cell_type": "code",
   "execution_count": 14,
   "id": "f20f702d-25c2-43da-93d0-68400bdd3992",
   "metadata": {
    "tags": []
   },
   "outputs": [],
   "source": [
    "# load data\n",
    "page_views_sample_df = se.read.csv(\"page_views_sample.csv\", header=True)\n",
    "documents_topics_df = se.read.csv(\"documents_topics.csv\", header=True)"
   ]
  },
  {
   "cell_type": "markdown",
   "id": "d662a568-bd9d-4813-8b01-c2018db0784a",
   "metadata": {},
   "source": [
    "## Evaluation Assignment"
   ]
  },
  {
   "cell_type": "markdown",
   "id": "664ab6ba-9828-486b-9c50-525e33c0b752",
   "metadata": {},
   "source": [
    "Data: outbrain click prediction\n",
    "\n",
    "Tasks:\n",
    "Using Spark RDD, DataFrame API and Python, calculate:\n",
    "\n",
    "**1**. Top 10 most visited document_ids in the page_views_sample log\n",
    "\n",
    "**2**. How many users have at least 2 different traffic_sources in the page_views_sample log (note the value is not a count, it's an encoded enum)\n",
    "\n",
    "**3***. Top 10 most visited topic_ids in page_views_sample log (use documents_topics table)"
   ]
  },
  {
   "cell_type": "markdown",
   "id": "14774f6d-daf9-44df-9ee1-4438fa59f407",
   "metadata": {},
   "source": [
    "The submission format is the result.json json file with top_10_documents, users and top_10_topics keys.\n",
    "For TOP-10 results, the answer must be written in the form of a sheet ordered from TOP-1 to TOP-10 with an id.\n",
    "\n",
    "result.json example:\n",
    "\n",
    "    {\n",
    "        \"top_10_documents\": [\n",
    "            111,\n",
    "            222,\n",
    "            333,\n",
    "            ...,\n",
    "            1010\n",
    "        ],\n",
    "        \"users\": 10000,\n",
    "        \"top_10_topics\": [\n",
    "            11,\n",
    "            22,\n",
    "            33,\n",
    "            ...,\n",
    "            101\n",
    "        ]\n",
    "    }"
   ]
  },
  {
   "cell_type": "markdown",
   "id": "cc8e0d53-1733-45d2-aa25-0a07e465799b",
   "metadata": {},
   "source": [
    "### 1. Top 10 most visited document_ids in the page_views_sample log"
   ]
  },
  {
   "cell_type": "code",
   "execution_count": 16,
   "id": "2b0aa6a4-71d8-4d51-be4a-be83fd0aa2a9",
   "metadata": {
    "tags": []
   },
   "outputs": [],
   "source": [
    "top_10_visited_docs = page_views_sample_df.groupBy('document_id').count().orderBy('count', ascending=False).limit(10)"
   ]
  },
  {
   "cell_type": "code",
   "execution_count": 25,
   "id": "fef6e3d1-56d6-4108-afd3-8a8a3cc18128",
   "metadata": {
    "tags": []
   },
   "outputs": [
    {
     "name": "stderr",
     "output_type": "stream",
     "text": [
      "                                                                                \r"
     ]
    }
   ],
   "source": [
    "top_10_visited_docs_list = [int(row['document_id']) for row in top_10_visited_docs.collect()]"
   ]
  },
  {
   "cell_type": "code",
   "execution_count": 26,
   "id": "570868ad-60e3-417f-86fd-0bcc48119fb0",
   "metadata": {
    "tags": []
   },
   "outputs": [
    {
     "data": {
      "text/plain": [
       "[1811567,\n",
       " 234,\n",
       " 42744,\n",
       " 1858440,\n",
       " 1780813,\n",
       " 60164,\n",
       " 1790442,\n",
       " 1877626,\n",
       " 1821895,\n",
       " 732651]"
      ]
     },
     "execution_count": 26,
     "metadata": {},
     "output_type": "execute_result"
    }
   ],
   "source": [
    "top_10_visited_docs_list"
   ]
  },
  {
   "cell_type": "markdown",
   "id": "49139bf8-9bbe-4e11-b999-bc7c134d7e5c",
   "metadata": {},
   "source": [
    "### **2**. How many users have at least 2 different traffic_sources in the page_views_sample log (note the value is not a count, it's an encoded enum)"
   ]
  },
  {
   "cell_type": "code",
   "execution_count": 20,
   "id": "26f1e7dc-e549-4211-b640-8f6f4c0c6ef5",
   "metadata": {
    "tags": []
   },
   "outputs": [
    {
     "name": "stderr",
     "output_type": "stream",
     "text": [
      "                                                                                \r"
     ]
    }
   ],
   "source": [
    "from pyspark.sql.functions import countDistinct, col\n",
    "\n",
    "multi_traffic_sources_users = (page_views_sample_df.groupBy('uuid').agg(countDistinct('traffic_source')\n",
    "                                .alias('distinct_traffic_sources')).filter('distinct_traffic_sources > 1').count())"
   ]
  },
  {
   "cell_type": "code",
   "execution_count": 21,
   "id": "6217b7db-91b3-44a3-ab63-551cea1d7074",
   "metadata": {
    "tags": []
   },
   "outputs": [
    {
     "data": {
      "text/plain": [
       "98080"
      ]
     },
     "execution_count": 21,
     "metadata": {},
     "output_type": "execute_result"
    }
   ],
   "source": [
    "multi_traffic_sources_users"
   ]
  },
  {
   "cell_type": "markdown",
   "id": "9eb71390-7c5e-4bc1-8590-9caf36988123",
   "metadata": {},
   "source": [
    "### **3***. Top 10 most visited topic_ids in page_views_sample log (use documents_topics table)"
   ]
  },
  {
   "cell_type": "code",
   "execution_count": 22,
   "id": "93f10b42-c046-431a-abff-37845ef83881",
   "metadata": {
    "tags": []
   },
   "outputs": [],
   "source": [
    "# Joining the tables:\n",
    "joined_tables_df = page_views_sample_df.join(documents_topics_df, on='document_id', how='inner')"
   ]
  },
  {
   "cell_type": "code",
   "execution_count": 23,
   "id": "4fc1ba9c-d8f1-4ee5-b0c9-03ae01fec9db",
   "metadata": {
    "tags": []
   },
   "outputs": [
    {
     "name": "stderr",
     "output_type": "stream",
     "text": [
      "                                                                                \r"
     ]
    }
   ],
   "source": [
    "top_10_topic_ids = (joined_tables_df.groupBy('topic_id').count().orderBy('count', ascending=False).limit(10)\n",
    "    .rdd.map(lambda row: int(row.topic_id)).collect())"
   ]
  },
  {
   "cell_type": "code",
   "execution_count": 24,
   "id": "525b2e3f-f9c5-4f9d-ac20-bf66c5561107",
   "metadata": {
    "tags": []
   },
   "outputs": [
    {
     "data": {
      "text/plain": [
       "[20, 16, 216, 136, 140, 143, 36, 97, 8, 269]"
      ]
     },
     "execution_count": 24,
     "metadata": {},
     "output_type": "execute_result"
    }
   ],
   "source": [
    "top_10_topic_ids"
   ]
  },
  {
   "cell_type": "markdown",
   "id": "5ea737a4-67bd-41d9-a1c8-1f00f887697a",
   "metadata": {},
   "source": [
    "## Results"
   ]
  },
  {
   "cell_type": "code",
   "execution_count": 31,
   "id": "6733c28b-c518-4122-b4c6-7ecc00eec96e",
   "metadata": {
    "tags": []
   },
   "outputs": [],
   "source": [
    "import json\n",
    "\n",
    "result = {\n",
    "    'top_10_documents': top_10_visited_docs_list,\n",
    "    'users': multi_traffic_sources_users,\n",
    "    'top_10_topics': top_10_topic_ids,\n",
    "}\n",
    "\n",
    "with open(\"result.json\", \"w\") as f:\n",
    "    json.dump(result, f)"
   ]
  },
  {
   "cell_type": "code",
   "execution_count": 32,
   "id": "c1a1faad-660f-4a06-b1d3-3c50b76befea",
   "metadata": {
    "tags": []
   },
   "outputs": [
    {
     "data": {
      "text/plain": [
       "{'top_10_documents': [1811567,\n",
       "  234,\n",
       "  42744,\n",
       "  1858440,\n",
       "  1780813,\n",
       "  60164,\n",
       "  1790442,\n",
       "  1877626,\n",
       "  1821895,\n",
       "  732651],\n",
       " 'users': 98080,\n",
       " 'top_10_topics': [20, 16, 216, 136, 140, 143, 36, 97, 8, 269]}"
      ]
     },
     "execution_count": 32,
     "metadata": {},
     "output_type": "execute_result"
    }
   ],
   "source": [
    "result"
   ]
  },
  {
   "cell_type": "code",
   "execution_count": 33,
   "id": "c2c2bd79-c196-4002-930c-19d3bf3b826b",
   "metadata": {
    "tags": []
   },
   "outputs": [
    {
     "name": "stdout",
     "output_type": "stream",
     "text": [
      "1.0\n",
      "Well done!\n"
     ]
    }
   ],
   "source": [
    "!curl -F file=@result.json \"51.250.54.133:80/MDS-LSML1/nsmakhova/w4/1\""
   ]
  },
  {
   "cell_type": "code",
   "execution_count": null,
   "id": "7e72a721-4580-487d-a1e5-06e86abe0f7f",
   "metadata": {},
   "outputs": [],
   "source": []
  }
 ],
 "metadata": {
  "kernelspec": {
   "display_name": "Python 3 (ipykernel)",
   "language": "python",
   "name": "python3"
  },
  "language_info": {
   "codemirror_mode": {
    "name": "ipython",
    "version": 3
   },
   "file_extension": ".py",
   "mimetype": "text/x-python",
   "name": "python",
   "nbconvert_exporter": "python",
   "pygments_lexer": "ipython3",
   "version": "3.10.9"
  }
 },
 "nbformat": 4,
 "nbformat_minor": 5
}
